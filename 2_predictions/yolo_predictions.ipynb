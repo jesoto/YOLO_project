{
 "cells": [
  {
   "cell_type": "code",
   "execution_count": 1,
   "metadata": {},
   "outputs": [],
   "source": [
    "import cv2\n",
    "import numpy as np\n",
    "import os\n",
    "import yaml\n",
    "from yaml.loader import SafeLoader"
   ]
  },
  {
   "cell_type": "code",
   "execution_count": 2,
   "metadata": {},
   "outputs": [
    {
     "name": "stdout",
     "output_type": "stream",
     "text": [
      "['person', 'car', 'chair', 'bottle', 'pottedplant', 'bird', 'dog', 'sofa', 'bicycle', 'horse', 'boat', 'motorbike', 'cat', 'tvmonitor', 'cow', 'sheep', 'aeroplane', 'train', 'diningtable', 'bus']\n"
     ]
    }
   ],
   "source": [
    "# load YAML \n",
    "with open('data.yaml', mode= 'r') as f:\n",
    "    data_yaml = yaml.load(f, Loader=SafeLoader)\n",
    "    \n",
    "labels = data_yaml['names']\n",
    "print(labels)\n",
    "\n",
    "#Load the image\n",
    "\n"
   ]
  },
  {
   "cell_type": "code",
   "execution_count": 3,
   "metadata": {},
   "outputs": [],
   "source": [
    "# Load YOLO model\n",
    "yolo = cv2.dnn.readNetFromONNX('./Model/weights/best.onnx')\n",
    "yolo.setPreferableBackend(cv2.dnn.DNN_BACKEND_OPENCV)\n",
    "yolo.setPreferableBackend(cv2.dnn.DNN_TARGET_CPU)"
   ]
  },
  {
   "cell_type": "code",
   "execution_count": 4,
   "metadata": {},
   "outputs": [],
   "source": [
    "#Load the image\n",
    "img = cv2.imread('./street_image.jpg')\n",
    "image = img.copy()\n",
    "\n",
    "row, col , d = image.shape\n",
    "\n",
    "# get the YOLO predictions from the image\n",
    "#step-1: convert image into square image(array)\n",
    "max_rc =max(row,col)\n",
    "input_image = np.zeros((max_rc,max_rc,3), dtype=np.uint8)\n",
    "input_image[0:row,0:col]= image\n",
    "#step-2: get prediction from square array\n",
    "INPUT_WH_YOLO = 640\n",
    "blob = cv2.dnn.blobFromImage(input_image ,1/255,(INPUT_WH_YOLO, INPUT_WH_YOLO), swapRB=True,crop=False)\n",
    "yolo.setInput(blob)\n",
    "pred = yolo.forward() #detection or predition from YOLO\n",
    "\n"
   ]
  },
  {
   "cell_type": "code",
   "execution_count": 5,
   "metadata": {},
   "outputs": [
    {
     "name": "stdout",
     "output_type": "stream",
     "text": [
      "(1, 25200, 25)\n"
     ]
    }
   ],
   "source": [
    "print(pred.shape)"
   ]
  },
  {
   "cell_type": "code",
   "execution_count": 9,
   "metadata": {},
   "outputs": [],
   "source": [
    "# non maximum supression\n",
    "#sterp-1: filter detection based on confidence (0.4) and probability score 0.25\n",
    "detections = pred[0]\n",
    "boxes = []\n",
    "confidences = []\n",
    "classes = []\n",
    "\n",
    "#width and height of the images {input image}\n",
    "image_w, image_h = input_image.shape[:2]\n",
    "x_factor = image_w/INPUT_WH_YOLO\n",
    "y_factor = image_h/INPUT_WH_YOLO\n",
    "\n",
    "for i in range(len(detections)):\n",
    "    row = detections[i]\n",
    "    confidence = row[4] #confidence of deetectioon an object\n",
    "    if confidence > 0.4 :\n",
    "        class_score = row[5:].max() #maximum probability from 20 objects\n",
    "        class_id = row[5:].argmax() #get the index position at which max probabilitu occur\n",
    "        \n",
    "        if class_score > 0.25:\n",
    "            cx,cy,w,h = row[0:4]"
   ]
  },
  {
   "cell_type": "code",
   "execution_count": null,
   "metadata": {},
   "outputs": [],
   "source": []
  },
  {
   "cell_type": "code",
   "execution_count": null,
   "metadata": {},
   "outputs": [],
   "source": []
  },
  {
   "cell_type": "code",
   "execution_count": null,
   "metadata": {},
   "outputs": [],
   "source": []
  },
  {
   "cell_type": "code",
   "execution_count": null,
   "metadata": {},
   "outputs": [],
   "source": []
  },
  {
   "cell_type": "code",
   "execution_count": null,
   "metadata": {},
   "outputs": [],
   "source": []
  },
  {
   "cell_type": "code",
   "execution_count": null,
   "metadata": {},
   "outputs": [],
   "source": []
  },
  {
   "cell_type": "code",
   "execution_count": null,
   "metadata": {},
   "outputs": [],
   "source": []
  }
 ],
 "metadata": {
  "kernelspec": {
   "display_name": "base",
   "language": "python",
   "name": "python3"
  },
  "language_info": {
   "codemirror_mode": {
    "name": "ipython",
    "version": 3
   },
   "file_extension": ".py",
   "mimetype": "text/x-python",
   "name": "python",
   "nbconvert_exporter": "python",
   "pygments_lexer": "ipython3",
   "version": "3.9.16"
  },
  "orig_nbformat": 4
 },
 "nbformat": 4,
 "nbformat_minor": 2
}
